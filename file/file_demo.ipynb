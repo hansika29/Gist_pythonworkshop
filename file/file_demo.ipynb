{
 "cells": [
  {
   "cell_type": "code",
   "execution_count": 2,
   "metadata": {},
   "outputs": [
    {
     "name": "stdout",
     "output_type": "stream",
     "text": [
      "line1\n",
      "line2\n",
      "line3\n",
      "line4\n"
     ]
    }
   ],
   "source": [
    "filepath='demo.txt'\n",
    "file_data=open(filepath)\n",
    "data=file_data.read()\n",
    "print(data)\n",
    "file_data.close()"
   ]
  },
  {
   "cell_type": "code",
   "execution_count": 5,
   "metadata": {},
   "outputs": [
    {
     "name": "stdout",
     "output_type": "stream",
     "text": [
      "enter your datathis is python workshop\n",
      "data stored successfully\n"
     ]
    }
   ],
   "source": [
    "file_path='insert_data.txt'\n",
    "with open(file_path,'w') as f:\n",
    "    data=input(\"enter your data\")\n",
    "    f.write(data)\n",
    "    print(\"data stored successfully\")"
   ]
  },
  {
   "cell_type": "code",
   "execution_count": 7,
   "metadata": {},
   "outputs": [
    {
     "name": "stdout",
     "output_type": "stream",
     "text": [
      "this is python workshop\n"
     ]
    }
   ],
   "source": [
    "with open(file_path,'r') as f:\n",
    "    data=f.read()\n",
    "    print(data)"
   ]
  },
  {
   "cell_type": "code",
   "execution_count": 10,
   "metadata": {},
   "outputs": [
    {
     "name": "stdout",
     "output_type": "stream",
     "text": [
      "added successfully\n"
     ]
    }
   ],
   "source": [
    "def add_contact(file_path,name,phone):\n",
    "    with open(file_path,'w') as f:\n",
    "        f.write(name+\":\"+phone)\n",
    "        print(\"added successfully\")\n",
    "add_contact('contact.txt',\"hansika\",\"1234567890\")"
   ]
  },
  {
   "cell_type": "code",
   "execution_count": null,
   "metadata": {},
   "outputs": [],
   "source": [
    "def display"
   ]
  }
 ],
 "metadata": {
  "kernelspec": {
   "display_name": "Python 3",
   "language": "python",
   "name": "python3"
  },
  "language_info": {
   "codemirror_mode": {
    "name": "ipython",
    "version": 3
   },
   "file_extension": ".py",
   "mimetype": "text/x-python",
   "name": "python",
   "nbconvert_exporter": "python",
   "pygments_lexer": "ipython3",
   "version": "3.7.1"
  }
 },
 "nbformat": 4,
 "nbformat_minor": 2
}
