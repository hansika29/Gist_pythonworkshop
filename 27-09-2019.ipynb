{
 "cells": [
  {
   "cell_type": "markdown",
   "metadata": {},
   "source": [
    "# dictionaries"
   ]
  },
  {
   "cell_type": "code",
   "execution_count": 2,
   "metadata": {},
   "outputs": [
    {
     "data": {
      "text/plain": [
       "{'name': 'hansika', 'gender': 'female', 'age': 20}"
      ]
     },
     "execution_count": 2,
     "metadata": {},
     "output_type": "execute_result"
    }
   ],
   "source": [
    "dict1={\"name\":\"hansika\",\"gender\":\"female\",\"age\":20}\n",
    "dict1"
   ]
  },
  {
   "cell_type": "code",
   "execution_count": 3,
   "metadata": {},
   "outputs": [
    {
     "data": {
      "text/plain": [
       "'hansika'"
      ]
     },
     "execution_count": 3,
     "metadata": {},
     "output_type": "execute_result"
    }
   ],
   "source": [
    "dict1[\"name\"]"
   ]
  },
  {
   "cell_type": "code",
   "execution_count": 4,
   "metadata": {},
   "outputs": [
    {
     "data": {
      "text/plain": [
       "dict"
      ]
     },
     "execution_count": 4,
     "metadata": {},
     "output_type": "execute_result"
    }
   ],
   "source": [
    "type(dict1)"
   ]
  },
  {
   "cell_type": "code",
   "execution_count": 5,
   "metadata": {},
   "outputs": [],
   "source": [
    "dict1[\"age\"]=36"
   ]
  },
  {
   "cell_type": "code",
   "execution_count": 6,
   "metadata": {},
   "outputs": [
    {
     "data": {
      "text/plain": [
       "{'name': 'hansika', 'gender': 'female', 'age': 36}"
      ]
     },
     "execution_count": 6,
     "metadata": {},
     "output_type": "execute_result"
    }
   ],
   "source": [
    "dict1"
   ]
  },
  {
   "cell_type": "code",
   "execution_count": 7,
   "metadata": {},
   "outputs": [],
   "source": [
    "#dictionary methods\n",
    "dict1.clear()"
   ]
  },
  {
   "cell_type": "code",
   "execution_count": 8,
   "metadata": {},
   "outputs": [
    {
     "data": {
      "text/plain": [
       "{}"
      ]
     },
     "execution_count": 8,
     "metadata": {},
     "output_type": "execute_result"
    }
   ],
   "source": [
    "dict1"
   ]
  },
  {
   "cell_type": "code",
   "execution_count": 9,
   "metadata": {},
   "outputs": [],
   "source": [
    "dict1={\"name\":\"hansika\",\"gender\":\"female\",\"age\":20}"
   ]
  },
  {
   "cell_type": "code",
   "execution_count": 10,
   "metadata": {},
   "outputs": [],
   "source": [
    "dict2=dict1.copy()"
   ]
  },
  {
   "cell_type": "code",
   "execution_count": 11,
   "metadata": {},
   "outputs": [
    {
     "data": {
      "text/plain": [
       "{'name': 'hansika', 'gender': 'female', 'age': 20}"
      ]
     },
     "execution_count": 11,
     "metadata": {},
     "output_type": "execute_result"
    }
   ],
   "source": [
    "dict2"
   ]
  },
  {
   "cell_type": "code",
   "execution_count": 12,
   "metadata": {},
   "outputs": [
    {
     "data": {
      "text/plain": [
       "{'e': 'hello', 'c': 'hello', 'b': 'hello', 'd': 'hello', 'a': 'hello'}"
      ]
     },
     "execution_count": 12,
     "metadata": {},
     "output_type": "execute_result"
    }
   ],
   "source": [
    "keys={'a','b','c','d','e'}\n",
    "values=\"hello\"\n",
    "dict3={}\n",
    "dict3.fromkeys(keys,values)"
   ]
  },
  {
   "cell_type": "code",
   "execution_count": 15,
   "metadata": {},
   "outputs": [
    {
     "data": {
      "text/plain": [
       "'female'"
      ]
     },
     "execution_count": 15,
     "metadata": {},
     "output_type": "execute_result"
    }
   ],
   "source": [
    "dict1.get('gender')"
   ]
  },
  {
   "cell_type": "code",
   "execution_count": 16,
   "metadata": {},
   "outputs": [
    {
     "data": {
      "text/plain": [
       "dict_items([('name', 'hansika'), ('gender', 'female'), ('age', 20)])"
      ]
     },
     "execution_count": 16,
     "metadata": {},
     "output_type": "execute_result"
    }
   ],
   "source": [
    "dict1.items()"
   ]
  },
  {
   "cell_type": "code",
   "execution_count": 18,
   "metadata": {},
   "outputs": [
    {
     "data": {
      "text/plain": [
       "dict_values(['hansika', 'female', 20])"
      ]
     },
     "execution_count": 18,
     "metadata": {},
     "output_type": "execute_result"
    }
   ],
   "source": [
    "dict1.values()"
   ]
  },
  {
   "cell_type": "code",
   "execution_count": 19,
   "metadata": {},
   "outputs": [
    {
     "data": {
      "text/plain": [
       "20"
      ]
     },
     "execution_count": 19,
     "metadata": {},
     "output_type": "execute_result"
    }
   ],
   "source": [
    "dict1.pop('age')"
   ]
  },
  {
   "cell_type": "code",
   "execution_count": 21,
   "metadata": {},
   "outputs": [
    {
     "data": {
      "text/plain": [
       "{'name': 'hansika', 'gender': 'female'}"
      ]
     },
     "execution_count": 21,
     "metadata": {},
     "output_type": "execute_result"
    }
   ],
   "source": [
    "dict1"
   ]
  },
  {
   "cell_type": "code",
   "execution_count": 22,
   "metadata": {},
   "outputs": [
    {
     "data": {
      "text/plain": [
       "('gender', 'female')"
      ]
     },
     "execution_count": 22,
     "metadata": {},
     "output_type": "execute_result"
    }
   ],
   "source": [
    "dict1.popitem()"
   ]
  },
  {
   "cell_type": "code",
   "execution_count": 25,
   "metadata": {},
   "outputs": [
    {
     "name": "stdout",
     "output_type": "stream",
     "text": [
      "enter string:lalithahansika\n",
      "['l', 'a', 'l', 'i', 't', 'h', 'a', 'h', 'a', 'n', 's', 'i', 'k', 'a']\n",
      "{'i', 't', 'k', 'n', 's', 'h', 'a', 'l'}\n",
      "{'i': 2, 't': 1, 'k': 1, 'n': 1, 's': 1, 'h': 2, 'a': 4, 'l': 2}\n",
      "\n",
      "{2: 'l', 1: 's', 4: 'a'}\n"
     ]
    }
   ],
   "source": [
    "# frequency of elements\n",
    "s=input(\"enter string:\")\n",
    "o_l=list(s)\n",
    "d_l=set(o_l)\n",
    "print(o_l)\n",
    "print(d_l)\n",
    "freq_data1={}\n",
    "freq_data2={}\n",
    "for key in d_l:\n",
    "    freq_data1[key]=o_l.count(key)\n",
    "print(freq_data1)\n",
    "for key in d_l:\n",
    "    freq_data2[o_l.count(key)]=key\n",
    "print()\n",
    "print(freq_data2)"
   ]
  },
  {
   "cell_type": "code",
   "execution_count": 47,
   "metadata": {},
   "outputs": [
    {
     "name": "stdout",
     "output_type": "stream",
     "text": [
      "contact added/saved successfully....!!!\n"
     ]
    }
   ],
   "source": [
    "#contact application\n",
    "contact={}\n",
    "def add_contact(name,ph_no):\n",
    "    if(name in contact.keys()):\n",
    "        print(name,\"contact already exists.....!!!\")\n",
    "    else:\n",
    "        contact[name]=ph_no\n",
    "        print(\"contact added/saved successfully....!!!\")\n",
    "add_contact(\"hansika\",1234567890)"
   ]
  },
  {
   "cell_type": "code",
   "execution_count": 48,
   "metadata": {},
   "outputs": [
    {
     "name": "stdout",
     "output_type": "stream",
     "text": [
      "1 .name= hansika ,phonenumber= 1234567890\n"
     ]
    }
   ],
   "source": [
    "def display_contact():\n",
    "    i=0\n",
    "    for name,phone in contact.items():\n",
    "        print(i+1,\".name=\",name,\",phonenumber=\",phone)\n",
    "        if(i<len(contact)):\n",
    "            break\n",
    "        i=i+1\n",
    "display_contact()"
   ]
  },
  {
   "cell_type": "code",
   "execution_count": 50,
   "metadata": {},
   "outputs": [
    {
     "name": "stdout",
     "output_type": "stream",
     "text": [
      "name,deleted successfully............!!!\n"
     ]
    }
   ],
   "source": [
    "def delete_contact(name):\n",
    "    if(name in contact.keys()):\n",
    "        contact.pop(name)\n",
    "        print(\"name,deleted successfully............!!!\")\n",
    "    else:\n",
    "        print(name,\"doesn't exits in contact list.....!!!\")\n",
    "delete_contact(\"hansika\")"
   ]
  },
  {
   "cell_type": "code",
   "execution_count": null,
   "metadata": {},
   "outputs": [],
   "source": []
  },
  {
   "cell_type": "code",
   "execution_count": 30,
   "metadata": {},
   "outputs": [
    {
     "name": "stdout",
     "output_type": "stream",
     "text": [
      "[2, 1, 4]\n",
      "['l', 's', 'a']\n",
      "4\n",
      "a\n"
     ]
    }
   ],
   "source": [
    "freq_data2\n",
    "key_list=list(freq_data2.keys())\n",
    "value_list=list(freq_data2.values())\n",
    "print(key_list)\n",
    "print(value_list)\n",
    "m=max(key_list)\n",
    "print(m)\n",
    "for key,value in freq_data2.items():\n",
    "    if(m==key):\n",
    "        print(value)"
   ]
  },
  {
   "cell_type": "code",
   "execution_count": null,
   "metadata": {},
   "outputs": [],
   "source": [
    "freq_data2\n",
    "key_list=list(freq_data2.keys())\n",
    "value_list=list(freq_data2.values())"
   ]
  },
  {
   "cell_type": "code",
   "execution_count": 31,
   "metadata": {},
   "outputs": [],
   "source": [
    "def search_contact():\n",
    "    name_ph_no=input(\"enter name/phone_number:\")\n",
    "    if(name_ph_no.isalpha()):\n",
    "        if(name_ph_no in contact.keys()):\n",
    "            print(\"name=\",name_ph_no,\"phonenumber=\",contact[name_ph_no])\n",
    "        else:\n",
    "            print(name_ph_no,\"doesn,t exists in contact....!!!\")\n",
    "    else:\n",
    "        if(name_ph_no in contact.values()):\n",
    "            for name,phone in contact.items():\n",
    "                if(name_ph_no==phone):\n",
    "                    print(\"name=,\")"
   ]
  },
  {
   "cell_type": "code",
   "execution_count": 58,
   "metadata": {},
   "outputs": [
    {
     "name": "stdout",
     "output_type": "stream",
     "text": [
      "lalitha don't exists....!!!\n"
     ]
    }
   ],
   "source": [
    "def search_contact(name):\n",
    "    if(name in contact.keys()):\n",
    "        print(\"name=\",name,\"phonenumber=\",contact[name])\n",
    "    else:\n",
    "        print(name,\"don't exists....!!!\")\n",
    "search_contact(\"lalitha\")"
   ]
  },
  {
   "cell_type": "code",
   "execution_count": 51,
   "metadata": {},
   "outputs": [
    {
     "name": "stdout",
     "output_type": "stream",
     "text": [
      "lalitha doesn't exists.....!!!\n"
     ]
    }
   ],
   "source": [
    "def update_contact(name):\n",
    "    if(name in contact.keys()):\n",
    "        print(\"name=\",name,\"phonenumber=\",contact[name])\n",
    "    else:\n",
    "        print(name,\"doesn't exists.....!!!\")\n",
    "update_contact(\"lalitha\")"
   ]
  },
  {
   "cell_type": "code",
   "execution_count": null,
   "metadata": {},
   "outputs": [],
   "source": []
  }
 ],
 "metadata": {
  "kernelspec": {
   "display_name": "Python 3",
   "language": "python",
   "name": "python3"
  },
  "language_info": {
   "codemirror_mode": {
    "name": "ipython",
    "version": 3
   },
   "file_extension": ".py",
   "mimetype": "text/x-python",
   "name": "python",
   "nbconvert_exporter": "python",
   "pygments_lexer": "ipython3",
   "version": "3.7.1"
  }
 },
 "nbformat": 4,
 "nbformat_minor": 2
}
