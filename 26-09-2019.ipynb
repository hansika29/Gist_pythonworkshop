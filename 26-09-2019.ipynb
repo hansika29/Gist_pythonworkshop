{
 "cells": [
  {
   "cell_type": "markdown",
   "metadata": {},
   "source": [
    "# string slicing"
   ]
  },
  {
   "cell_type": "code",
   "execution_count": 3,
   "metadata": {},
   "outputs": [
    {
     "name": "stdout",
     "output_type": "stream",
     "text": [
      "python programming\n",
      "6\n",
      "11\n",
      " programming\n",
      "even characters\n",
      "p\n",
      "t\n",
      "o\n",
      " \n",
      "r\n",
      "g\n",
      "a\n",
      "m\n",
      "n\n",
      "odd characters\n",
      "y\n",
      "h\n",
      "n\n",
      "p\n",
      "o\n",
      "r\n",
      "m\n",
      "i\n",
      "g\n",
      "pto rgamn\n",
      "yhnpormig\n"
     ]
    }
   ],
   "source": [
    "s=\"python programming\"\n",
    "print(s[0:])\n",
    "pos=s.index('')\n",
    "for i in range(len(s)):\n",
    "    if(s[i].isspace()):\n",
    "        pos=i\n",
    "for i in range(len(s)):\n",
    "    if(s[i]=='r'):\n",
    "        pos2=i\n",
    "print(pos)\n",
    "print(pos2)\n",
    "print(s[pos:])\n",
    "print(\"even characters\")\n",
    "for i in range(len(s)):\n",
    "    if(i%2==0):\n",
    "        print(s[i])\n",
    "print(\"odd characters\")\n",
    "for i in range(len(s)):\n",
    "    if(i%2!=0):\n",
    "        print(s[i])\n",
    "print(s[0::2])\n",
    "print(s[1::2])"
   ]
  },
  {
   "cell_type": "code",
   "execution_count": 4,
   "metadata": {},
   "outputs": [
    {
     "name": "stdout",
     "output_type": "stream",
     "text": [
      "python programming\n",
      "g\n",
      "n\n",
      "i\n",
      "m\n",
      "m\n",
      "a\n",
      "r\n",
      "g\n",
      "o\n",
      "r\n",
      "p\n",
      " \n",
      "n\n",
      "o\n",
      "h\n",
      "t\n",
      "gnimmargorp nohtyp\n"
     ]
    }
   ],
   "source": [
    "print(s)\n",
    "l=-(len(s))\n",
    "for i in range(-1,l+1,-1):\n",
    "    print(s[i])\n",
    "print(s[::-1])"
   ]
  },
  {
   "cell_type": "code",
   "execution_count": 3,
   "metadata": {},
   "outputs": [
    {
     "name": "stdout",
     "output_type": "stream",
     "text": [
      "not palindrome\n"
     ]
    }
   ],
   "source": [
    "string=\"hello\"\n",
    "revstring=string[::-1]\n",
    "if(string==revstring):\n",
    "    print(\"palindrome\")\n",
    "else:\n",
    "    print(\"not palindrome\")"
   ]
  },
  {
   "cell_type": "code",
   "execution_count": 10,
   "metadata": {},
   "outputs": [
    {
     "name": "stdout",
     "output_type": "stream",
     "text": [
      "enter your data:gfgjgf997854\n",
      "['g', 'f', 'g', 'j', 'g', 'f']\n",
      "['9', '9', '7', '8', '5', '4']\n",
      "['f', 'f', 'g', 'g', 'g', 'j']\n",
      "['4', '5', '7', '8', '9', '9']\n",
      "ffgggj\n",
      "457899\n",
      "ffgggj457899\n"
     ]
    }
   ],
   "source": [
    "s=input(\"enter your data:\")\n",
    "alphabets=[]\n",
    "numeric=[]\n",
    "for i in range(len(s)):\n",
    "    if(s[i].isalpha()):\n",
    "        alphabets.append(s[i])\n",
    "    if(s[i].isnumeric()):\n",
    "        numeric.append(s[i])\n",
    "print(alphabets)\n",
    "print(numeric)\n",
    "alphabets=sorted(alphabets)\n",
    "numeric=sorted(numeric)\n",
    "print(alphabets)\n",
    "print(numeric)\n",
    "sorted_alphabets_list=\"\".join(alphabets)\n",
    "sorted_numeric_list=\"\".join(numeric)\n",
    "print(sorted_alphabets_list)\n",
    "print(sorted_numeric_list)\n",
    "data=sorted_alphabets_list+sorted_numeric_list\n",
    "print(data)"
   ]
  },
  {
   "cell_type": "code",
   "execution_count": 11,
   "metadata": {},
   "outputs": [
    {
     "name": "stdout",
     "output_type": "stream",
     "text": [
      "enter stringhansika poojitha vidya\n",
      "hhhh aaaa nnnn ssss iiii kkkk aaaa      pppp oooo oooo jjjj iiii tttt hhhh aaaa      vvvv iiii dddd yyyy aaaa "
     ]
    }
   ],
   "source": [
    "s=input(\"enter string\")\n",
    "for i in range(len(s)):\n",
    "    print(s[i]*4,end=\" \")\n"
   ]
  },
  {
   "cell_type": "code",
   "execution_count": 12,
   "metadata": {},
   "outputs": [
    {
     "name": "stdout",
     "output_type": "stream",
     "text": [
      "pythonpythonpythonpython\n"
     ]
    }
   ],
   "source": [
    "s=\"python\"\n",
    "print(s*4)"
   ]
  },
  {
   "cell_type": "code",
   "execution_count": 17,
   "metadata": {},
   "outputs": [
    {
     "name": "stdout",
     "output_type": "stream",
     "text": [
      "a5h5a6n7s7\n",
      "aaaaa\n",
      "hhhhh\n",
      "aaaaaa\n",
      "nnnnnnn\n",
      "sssssss\n"
     ]
    }
   ],
   "source": [
    "s=input()\n",
    "data=''\n",
    "for i in range(len(s)):\n",
    "    if(s[i].isalpha()):\n",
    "        data=data+s[i]\n",
    "    if(s[i].isnumeric()):\n",
    "        print(data*int(s[i]))\n",
    "        data=''"
   ]
  },
  {
   "cell_type": "code",
   "execution_count": 22,
   "metadata": {},
   "outputs": [
    {
     "name": "stdout",
     "output_type": "stream",
     "text": [
      "enter string:abc def ghi\n",
      "['abc', 'def', 'ghi']\n",
      "even pos data: cba def ihg \n",
      "odd pos data: abc fed ghi \n",
      "reverse data: cba fed ihg "
     ]
    }
   ],
   "source": [
    "data=input(\"enter string:\")\n",
    "data=data.split()\n",
    "print(data)\n",
    "print(\"even pos data:\",end=\" \")\n",
    "for i in range(len(data)):\n",
    "    if(i%2==0):\n",
    "        print(data[i][::-1],end=\" \")\n",
    "    else:\n",
    "        print(data[i],end=\" \")\n",
    "print(\"\\nodd pos data:\",end=\" \")\n",
    "for i in range(len(data)):\n",
    "    if(i%2==1):\n",
    "        print(data[i][::-1],end=\" \")\n",
    "    else:\n",
    "        print(data[i],end=\" \")\n",
    "print(\"\\nreverse data:\",end=\" \")\n",
    "for i in range(len(data)):\n",
    "    print(data[i][::-1],end=\" \")"
   ]
  },
  {
   "cell_type": "code",
   "execution_count": 31,
   "metadata": {},
   "outputs": [
    {
     "name": "stdout",
     "output_type": "stream",
     "text": [
      "A ------> 4\n",
      "A ------> 4\n",
      "A ------> 4\n",
      "A ------> 4\n",
      "b ------> 11\n",
      "b ------> 11\n",
      "b ------> 11\n",
      "b ------> 11\n",
      "b ------> 11\n",
      "b ------> 11\n",
      "b ------> 11\n",
      "b ------> 11\n",
      "b ------> 11\n",
      "b ------> 11\n",
      "b ------> 11\n",
      "c ------> 4\n",
      "c ------> 4\n",
      "c ------> 4\n",
      "c ------> 4\n",
      "m ------> 1\n",
      "s ------> 2\n",
      "s ------> 2\n",
      "['A', 'b', 'c', 'm', 's']\n"
     ]
    }
   ],
   "source": [
    "s=\"AAAAbbbbbbbbbbbccccmss\"\n",
    "for i in range(len(s)):\n",
    "    print(s[i],\"-------->\",s.count(s[i]))\n",
    "for ch in s:\n",
    "    print(ch,\"------>\",s.count(ch))\n",
    "s=list(s)\n",
    "print(s)\n",
    "li=[]\n",
    "for ch in s:\n",
    "    if ch not in li:\n",
    "        li.append(ch)\n",
    "print(li)"
   ]
  },
  {
   "cell_type": "code",
   "execution_count": 27,
   "metadata": {},
   "outputs": [
    {
     "name": "stdout",
     "output_type": "stream",
     "text": [
      "['A', 'b', 'c', 'm', 's']\n",
      "['A', 'A', 'A', 'A', 'b', 'b', 'b', 'b', 'b', 'b', 'b', 'b', 'b', 'b', 'b', 'c', 'c', 'c', 'c', 'm', 's', 's']\n"
     ]
    }
   ],
   "source": [
    "print(li)\n",
    "print(s)"
   ]
  },
  {
   "cell_type": "code",
   "execution_count": 33,
   "metadata": {},
   "outputs": [
    {
     "name": "stdout",
     "output_type": "stream",
     "text": [
      "A ---------> 4\n",
      "b ---------> 11\n",
      "c ---------> 4\n",
      "m ---------> 1\n",
      "s ---------> 2\n"
     ]
    }
   ],
   "source": [
    "for ch in li:\n",
    "    print(ch,\"--------->\",s.count(ch))\n"
   ]
  },
  {
   "cell_type": "code",
   "execution_count": 42,
   "metadata": {},
   "outputs": [
    {
     "name": "stdout",
     "output_type": "stream",
     "text": [
      "['A', 'B', 'D', 'D', 'G', 'H', 'H', 'H', 'S', 'J', 'J', 'S', 'G', 'D', 'G', 'G']\n",
      "J ----------> 2\n",
      "H ----------> 3\n",
      "A ----------> 1\n",
      "G ----------> 4\n",
      "D ----------> 3\n",
      "S ----------> 2\n",
      "B ----------> 1\n"
     ]
    }
   ],
   "source": [
    "s=\"ABDDGHHHSJJSGDGG\"\n",
    "d=list(s)\n",
    "print(d)\n",
    "n=set(s)\n",
    "for ch in n:\n",
    "    print(ch,\"---------->\",d.count(ch))\n"
   ]
  },
  {
   "cell_type": "code",
   "execution_count": 40,
   "metadata": {},
   "outputs": [
    {
     "name": "stdout",
     "output_type": "stream",
     "text": [
      "J ----------> 2\n",
      "H ----------> 3\n",
      "A ----------> 1\n",
      "G ----------> 4\n",
      "D ----------> 3\n",
      "S ----------> 2\n",
      "B ----------> 1\n"
     ]
    }
   ],
   "source": [
    "n=set(s)\n",
    "for ch in n:\n",
    "    print(ch,\"---------->\",d.count(ch))"
   ]
  },
  {
   "cell_type": "code",
   "execution_count": 43,
   "metadata": {},
   "outputs": [
    {
     "name": "stdout",
     "output_type": "stream",
     "text": [
      "A= 65\n"
     ]
    }
   ],
   "source": [
    "print(\"A=\",ord('A'))"
   ]
  },
  {
   "cell_type": "code",
   "execution_count": 44,
   "metadata": {},
   "outputs": [
    {
     "name": "stdout",
     "output_type": "stream",
     "text": [
      "a= 97\n"
     ]
    }
   ],
   "source": [
    "print(\"a=\",ord('a'))"
   ]
  },
  {
   "cell_type": "code",
   "execution_count": 45,
   "metadata": {},
   "outputs": [
    {
     "name": "stdout",
     "output_type": "stream",
     "text": [
      "B\n"
     ]
    }
   ],
   "source": [
    "print(chr(66))"
   ]
  },
  {
   "cell_type": "code",
   "execution_count": 6,
   "metadata": {},
   "outputs": [
    {
     "name": "stdout",
     "output_type": "stream",
     "text": [
      "jgfd6\n",
      "j\n",
      "g\n",
      "f\n",
      "d\n"
     ]
    },
    {
     "ename": "NameError",
     "evalue": "name 'data' is not defined",
     "output_type": "error",
     "traceback": [
      "\u001b[1;31m---------------------------------------------------------------------------\u001b[0m",
      "\u001b[1;31mNameError\u001b[0m                                 Traceback (most recent call last)",
      "\u001b[1;32m<ipython-input-6-4312c5f28b1c>\u001b[0m in \u001b[0;36m<module>\u001b[1;34m\u001b[0m\n\u001b[0;32m      5\u001b[0m     \u001b[1;32mif\u001b[0m\u001b[1;33m(\u001b[0m\u001b[0ms\u001b[0m\u001b[1;33m[\u001b[0m\u001b[0mi\u001b[0m\u001b[1;33m]\u001b[0m\u001b[1;33m.\u001b[0m\u001b[0misnumeric\u001b[0m\u001b[1;33m(\u001b[0m\u001b[1;33m)\u001b[0m\u001b[1;33m)\u001b[0m\u001b[1;33m:\u001b[0m\u001b[1;33m\u001b[0m\u001b[1;33m\u001b[0m\u001b[0m\n\u001b[0;32m      6\u001b[0m         \u001b[0masc\u001b[0m\u001b[1;33m=\u001b[0m\u001b[0mord\u001b[0m\u001b[1;33m(\u001b[0m\u001b[0ms\u001b[0m\u001b[1;33m[\u001b[0m\u001b[0mi\u001b[0m\u001b[1;33m-\u001b[0m\u001b[1;36m1\u001b[0m\u001b[1;33m]\u001b[0m\u001b[1;33m)\u001b[0m\u001b[1;33m\u001b[0m\u001b[1;33m\u001b[0m\u001b[0m\n\u001b[1;32m----> 7\u001b[1;33m         \u001b[0mdata\u001b[0m\u001b[1;33m=\u001b[0m\u001b[0mdata\u001b[0m\u001b[1;33m+\u001b[0m\u001b[0mchr\u001b[0m\u001b[1;33m(\u001b[0m\u001b[0masc\u001b[0m\u001b[1;33m+\u001b[0m\u001b[0mint\u001b[0m\u001b[1;33m(\u001b[0m\u001b[0ms\u001b[0m\u001b[1;33m[\u001b[0m\u001b[0mi\u001b[0m\u001b[1;33m]\u001b[0m\u001b[1;33m)\u001b[0m\u001b[1;33m)\u001b[0m\u001b[1;33m\u001b[0m\u001b[1;33m\u001b[0m\u001b[0m\n\u001b[0m\u001b[0;32m      8\u001b[0m \u001b[0mprint\u001b[0m\u001b[1;33m(\u001b[0m\u001b[0mdata\u001b[0m\u001b[1;33m)\u001b[0m\u001b[1;33m\u001b[0m\u001b[1;33m\u001b[0m\u001b[0m\n",
      "\u001b[1;31mNameError\u001b[0m: name 'data' is not defined"
     ]
    }
   ],
   "source": [
    "s=input()\n",
    "for i in range(len(s)):\n",
    "    if(s[i].isalpha()):\n",
    "        print(s[i])\n",
    "    if(s[i].isnumeric()):\n",
    "        asc=ord(s[i-1])\n",
    "        data=data+chr(asc+int(s[i]))\n",
    "print(data)"
   ]
  },
  {
   "cell_type": "code",
   "execution_count": 7,
   "metadata": {},
   "outputs": [],
   "source": [
    "l1=[\"aaa\",44,\"bbb\",55]"
   ]
  },
  {
   "cell_type": "code",
   "execution_count": 8,
   "metadata": {},
   "outputs": [
    {
     "data": {
      "text/plain": [
       "['aaa', 44, 'bbb', 55]"
      ]
     },
     "execution_count": 8,
     "metadata": {},
     "output_type": "execute_result"
    }
   ],
   "source": [
    "l1"
   ]
  },
  {
   "cell_type": "code",
   "execution_count": 9,
   "metadata": {},
   "outputs": [
    {
     "data": {
      "text/plain": [
       "'aaa'"
      ]
     },
     "execution_count": 9,
     "metadata": {},
     "output_type": "execute_result"
    }
   ],
   "source": [
    "l1[0]"
   ]
  },
  {
   "cell_type": "code",
   "execution_count": 11,
   "metadata": {},
   "outputs": [],
   "source": [
    "l1[0]=\"ccc\""
   ]
  },
  {
   "cell_type": "markdown",
   "metadata": {},
   "source": [
    "l1"
   ]
  },
  {
   "cell_type": "code",
   "execution_count": 12,
   "metadata": {},
   "outputs": [
    {
     "data": {
      "text/plain": [
       "['ccc', 44, 'bbb', 55]"
      ]
     },
     "execution_count": 12,
     "metadata": {},
     "output_type": "execute_result"
    }
   ],
   "source": [
    "l1"
   ]
  },
  {
   "cell_type": "code",
   "execution_count": null,
   "metadata": {},
   "outputs": [],
   "source": []
  }
 ],
 "metadata": {
  "kernelspec": {
   "display_name": "Python 3",
   "language": "python",
   "name": "python3"
  },
  "language_info": {
   "codemirror_mode": {
    "name": "ipython",
    "version": 3
   },
   "file_extension": ".py",
   "mimetype": "text/x-python",
   "name": "python",
   "nbconvert_exporter": "python",
   "pygments_lexer": "ipython3",
   "version": "3.7.1"
  }
 },
 "nbformat": 4,
 "nbformat_minor": 2
}
