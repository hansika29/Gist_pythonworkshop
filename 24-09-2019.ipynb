{
 "cells": [
  {
   "cell_type": "markdown",
   "metadata": {},
   "source": [
    "# iterative statement"
   ]
  },
  {
   "cell_type": "code",
   "execution_count": 15,
   "metadata": {},
   "outputs": [
    {
     "name": "stdout",
     "output_type": "stream",
     "text": [
      "enter s value1\n",
      "enter e value100\n",
      "100 99 98 97 96 95 94 93 92 91 90 89 88 87 86 85 84 83 82 81 80 79 78 77 76 75 74 73 72 71 70 69 68 67 66 65 64 63 62 61 60 59 58 57 56 55 54 53 52 51 50 49 48 47 46 45 44 43 42 41 40 39 38 37 36 35 34 33 32 31 30 29 28 27 26 25 24 23 22 21 20 19 18 17 16 15 14 13 12 11 10 9 8 7 6 5 4 3 2 1 "
     ]
    }
   ],
   "source": [
    "s=int(input(\"enter s value\"))\n",
    "e=int(input(\"enter e value\"))\n",
    "for i in range(e,s-1,-1):\n",
    "    print(i,end=\" \")"
   ]
  },
  {
   "cell_type": "code",
   "execution_count": 16,
   "metadata": {},
   "outputs": [
    {
     "name": "stdout",
     "output_type": "stream",
     "text": [
      "enter s value1\n",
      "enter e value100\n",
      "1 2 3 4 5 6 7 8 9 10 11 12 13 14 15 16 17 18 19 20 21 22 23 24 25 26 27 28 29 30 31 32 33 34 35 36 37 38 39 40 41 42 43 44 45 46 47 48 49 50 51 52 53 54 55 56 57 58 59 60 61 62 63 64 65 66 67 68 69 70 71 72 73 74 75 76 77 78 79 80 81 82 83 84 85 86 87 88 89 90 91 92 93 94 95 96 97 98 99 "
     ]
    }
   ],
   "source": [
    "s=int(input(\"enter s value\"))\n",
    "e=int(input(\"enter e value\"))\n",
    "for i in range(s,e,+1):\n",
    "    print(i,end=\" \")"
   ]
  },
  {
   "cell_type": "code",
   "execution_count": 14,
   "metadata": {},
   "outputs": [
    {
     "name": "stdout",
     "output_type": "stream",
     "text": [
      "value position 0 --------> 434\n",
      "value position 0 --------> 545\n",
      "value position 0 --------> 234\n",
      "value position 0 --------> 242\n",
      "value position 0 --------> 55\n",
      "value position 0 --------> 34\n",
      "value position 0 --------> 56\n",
      "value position 0 --------> 656\n",
      "value position 0 --------> 32\n",
      "value position 0 --------> 4342\n"
     ]
    }
   ],
   "source": [
    "t=0\n",
    "for i in[434,545,234,242,55,34,56,656,32,4342,]:\n",
    "    print(\"value position\",t,\"-------->\",i)\n",
    "t=t-1\n"
   ]
  },
  {
   "cell_type": "markdown",
   "metadata": {},
   "source": [
    "# even number"
   ]
  },
  {
   "cell_type": "code",
   "execution_count": 18,
   "metadata": {},
   "outputs": [
    {
     "name": "stdout",
     "output_type": "stream",
     "text": [
      "enter starting range:1\n",
      "enter ending range:100\n",
      "2 4 6 8 10 12 14 16 18 20 22 24 26 28 30 32 34 36 38 40 42 44 46 48 50 52 54 56 58 60 62 64 66 68 70 72 74 76 78 80 82 84 86 88 90 92 94 96 98 100 "
     ]
    }
   ],
   "source": [
    "start=int(input(\"enter starting range:\"))\n",
    "end=int(input(\"enter ending range:\"))\n",
    "for i in range(start,end+1):\n",
    "    if(i%2==0):\n",
    "        print(i,end=\" \")"
   ]
  },
  {
   "cell_type": "code",
   "execution_count": 19,
   "metadata": {},
   "outputs": [
    {
     "name": "stdout",
     "output_type": "stream",
     "text": [
      "enter starting range:1\n",
      "enter ending range:10\n",
      "1 3 5 7 9 "
     ]
    }
   ],
   "source": [
    "start=int(input(\"enter starting range:\"))\n",
    "end=int(input(\"enter ending range:\"))\n",
    "for i in range(start,end+1):\n",
    "    if(i%2==1):\n",
    "        print(i,end=\" \")"
   ]
  },
  {
   "cell_type": "code",
   "execution_count": 31,
   "metadata": {},
   "outputs": [
    {
     "name": "stdout",
     "output_type": "stream",
     "text": [
      "enter starting range:1\n",
      "enter ending range:50\n",
      "5 * 2 + 2 ^ 1 -----------> 12\n",
      "12 5 * 2 + 2 ^ 2 -----------> 14\n",
      "14 5 * 2 + 2 ^ 3 -----------> 18\n",
      "18 5 * 2 + 2 ^ 4 -----------> 26\n",
      "26 5 * 2 + 2 ^ 5 -----------> 42\n",
      "42 5 * 2 + 2 ^ 6 -----------> 74\n",
      "74 5 * 2 + 2 ^ 7 -----------> 138\n",
      "138 5 * 2 + 2 ^ 8 -----------> 266\n",
      "266 5 * 2 + 2 ^ 9 -----------> 522\n",
      "522 5 * 2 + 2 ^ 10 -----------> 1034\n",
      "1034 5 * 2 + 2 ^ 11 -----------> 2058\n",
      "2058 5 * 2 + 2 ^ 12 -----------> 4106\n",
      "4106 5 * 2 + 2 ^ 13 -----------> 8202\n",
      "8202 5 * 2 + 2 ^ 14 -----------> 16394\n",
      "16394 5 * 2 + 2 ^ 15 -----------> 32778\n",
      "32778 5 * 2 + 2 ^ 16 -----------> 65546\n",
      "65546 5 * 2 + 2 ^ 17 -----------> 131082\n",
      "131082 5 * 2 + 2 ^ 18 -----------> 262154\n",
      "262154 5 * 2 + 2 ^ 19 -----------> 524298\n",
      "524298 5 * 2 + 2 ^ 20 -----------> 1048586\n",
      "1048586 5 * 2 + 2 ^ 21 -----------> 2097162\n",
      "2097162 5 * 2 + 2 ^ 22 -----------> 4194314\n",
      "4194314 5 * 2 + 2 ^ 23 -----------> 8388618\n",
      "8388618 5 * 2 + 2 ^ 24 -----------> 16777226\n",
      "16777226 5 * 2 + 2 ^ 25 -----------> 33554442\n",
      "33554442 5 * 2 + 2 ^ 26 -----------> 67108874\n",
      "67108874 5 * 2 + 2 ^ 27 -----------> 134217738\n",
      "134217738 5 * 2 + 2 ^ 28 -----------> 268435466\n",
      "268435466 5 * 2 + 2 ^ 29 -----------> 536870922\n",
      "536870922 5 * 2 + 2 ^ 30 -----------> 1073741834\n",
      "1073741834 5 * 2 + 2 ^ 31 -----------> 2147483658\n",
      "2147483658 5 * 2 + 2 ^ 32 -----------> 4294967306\n",
      "4294967306 5 * 2 + 2 ^ 33 -----------> 8589934602\n",
      "8589934602 5 * 2 + 2 ^ 34 -----------> 17179869194\n",
      "17179869194 5 * 2 + 2 ^ 35 -----------> 34359738378\n",
      "34359738378 5 * 2 + 2 ^ 36 -----------> 68719476746\n",
      "68719476746 5 * 2 + 2 ^ 37 -----------> 137438953482\n",
      "137438953482 5 * 2 + 2 ^ 38 -----------> 274877906954\n",
      "274877906954 5 * 2 + 2 ^ 39 -----------> 549755813898\n",
      "549755813898 5 * 2 + 2 ^ 40 -----------> 1099511627786\n",
      "1099511627786 5 * 2 + 2 ^ 41 -----------> 2199023255562\n",
      "2199023255562 5 * 2 + 2 ^ 42 -----------> 4398046511114\n",
      "4398046511114 5 * 2 + 2 ^ 43 -----------> 8796093022218\n",
      "8796093022218 5 * 2 + 2 ^ 44 -----------> 17592186044426\n",
      "17592186044426 5 * 2 + 2 ^ 45 -----------> 35184372088842\n",
      "35184372088842 5 * 2 + 2 ^ 46 -----------> 70368744177674\n",
      "70368744177674 5 * 2 + 2 ^ 47 -----------> 140737488355338\n",
      "140737488355338 5 * 2 + 2 ^ 48 -----------> 281474976710666\n",
      "281474976710666 5 * 2 + 2 ^ 49 -----------> 562949953421322\n",
      "562949953421322 5 * 2 + 2 ^ 50 -----------> 1125899906842634\n",
      "1125899906842634 "
     ]
    }
   ],
   "source": [
    "s=int(input(\"enter starting range:\"))\n",
    "e=int(input(\"enter ending range:\"))\n",
    "n1=5\n",
    "n2=2\n",
    "for i in range(s,e+1):\n",
    "    expre=n1*n2+n2**i\n",
    "    print(n1,\"*\",n2,\"+\",n2,\"^\",i,\"----------->\",expre)\n",
    "    print(expre,end=\" \")"
   ]
  },
  {
   "cell_type": "code",
   "execution_count": 32,
   "metadata": {},
   "outputs": [
    {
     "name": "stdout",
     "output_type": "stream",
     "text": [
      "1\n",
      "10\n",
      "1\n",
      "3\n",
      "6\n",
      "10\n",
      "15\n",
      "21\n",
      "28\n",
      "36\n",
      "45\n",
      "55\n"
     ]
    }
   ],
   "source": [
    "s=int(input())\n",
    "e=int(input())\n",
    "s1=0\n",
    "for i in range(s,e+1):\n",
    "    s1=s1+i\n",
    "    print(s1)"
   ]
  },
  {
   "cell_type": "code",
   "execution_count": 34,
   "metadata": {},
   "outputs": [
    {
     "name": "stdout",
     "output_type": "stream",
     "text": [
      "enter n value:78\n",
      "1 2 3 6 13 26 39 78 "
     ]
    }
   ],
   "source": [
    "#factors of a number\n",
    "n=int(input(\"enter n value:\"))\n",
    "for i in range(1,n+1):\n",
    "     if n%i==0:\n",
    "            print(i,end=\" \")\n",
    "            "
   ]
  },
  {
   "cell_type": "code",
   "execution_count": 46,
   "metadata": {},
   "outputs": [
    {
     "name": "stdout",
     "output_type": "stream",
     "text": [
      "enter n value:9\n",
      "1 \n",
      "factor's sum= 1\n",
      "3 \n",
      "factor's sum= 4\n",
      "9 \n",
      "factor's sum= 13\n"
     ]
    }
   ],
   "source": [
    "n=int(input(\"enter n value:\"))\n",
    "s1=0\n",
    "for i in range(1,n+1):\n",
    "    if n%i==0:\n",
    "        print(i,end=\" \")\n",
    "        s1=s1+i\n",
    "        print(\"\\nfactor's sum=\",s1)"
   ]
  },
  {
   "cell_type": "code",
   "execution_count": 1,
   "metadata": {},
   "outputs": [
    {
     "name": "stdout",
     "output_type": "stream",
     "text": [
      "enter n value:28\n",
      "28 ------> 28 /2-----> 14\n",
      "14 ------> 14 /2-----> 7\n",
      "7 -----> 7 *3+1-----> 22\n",
      "22 ------> 22 /2-----> 11\n",
      "11 -----> 11 *3+1-----> 34\n",
      "34 ------> 34 /2-----> 17\n",
      "17 -----> 17 *3+1-----> 52\n",
      "52 ------> 52 /2-----> 26\n",
      "26 ------> 26 /2-----> 13\n",
      "13 -----> 13 *3+1-----> 40\n",
      "40 ------> 40 /2-----> 20\n",
      "20 ------> 20 /2-----> 10\n",
      "10 ------> 10 /2-----> 5\n",
      "5 -----> 5 *3+1-----> 16\n",
      "16 ------> 16 /2-----> 8\n",
      "8 ------> 8 /2-----> 4\n",
      "4 ------> 4 /2-----> 2\n",
      "2 ------> 2 /2-----> 1\n",
      "cycle count= 6\n"
     ]
    }
   ],
   "source": [
    "n=int(input(\"enter n value:\"))\n",
    "count=1\n",
    "while(n!=1):\n",
    "    if(n%2==0):\n",
    "        print(n,\"------>\",n,\"/2----->\",end=\" \")\n",
    "        n=n//2\n",
    "        print(n)\n",
    "    else:\n",
    "        print(n,\"----->\",n,\"*3+1----->\",end=\" \")\n",
    "        n=n*3+1\n",
    "        print(n)\n",
    "        count+=1\n",
    "print(\"cycle count=\",count)"
   ]
  },
  {
   "cell_type": "code",
   "execution_count": 4,
   "metadata": {},
   "outputs": [
    {
     "name": "stdout",
     "output_type": "stream",
     "text": [
      "enter h value180\n",
      "enter w value444\n",
      "upload another\n"
     ]
    }
   ],
   "source": [
    "length=180\n",
    "h=int(input(\"enter h value\"))\n",
    "w=int(input(\"enter w value\"))\n",
    "if(w>length and h>length):\n",
    "    print(\"crop it\")\n",
    "elif(w==length and h==length):\n",
    "    print(\"accepted\")\n",
    "else:\n",
    "    print(\"upload another\")"
   ]
  },
  {
   "cell_type": "code",
   "execution_count": 1,
   "metadata": {},
   "outputs": [
    {
     "name": "stdout",
     "output_type": "stream",
     "text": [
      "enter n value:873546794567935\n",
      "lastdigit= 5\n",
      "firstdigit 8\n"
     ]
    }
   ],
   "source": [
    "#program to find first and last digits of a nunmber\n",
    "n=int(input(\"enter n value:\"))\n",
    "print(\"lastdigit=\",n%10)\n",
    "while(n>=10):\n",
    "    n=n//10\n",
    "print(\"firstdigit\",n)\n"
   ]
  },
  {
   "cell_type": "code",
   "execution_count": 8,
   "metadata": {},
   "outputs": [
    {
     "name": "stdout",
     "output_type": "stream",
     "text": [
      "enter n value:1401601499\n",
      "legal ISBN\n"
     ]
    }
   ],
   "source": [
    "#program to find a number having  10 digits then print legal ISBN,if not print illegal ISBN\n",
    "n=int(input(\"enter n value:\"))\n",
    "temp=n\n",
    "count=0\n",
    "sum1=0\n",
    "i=10\n",
    "while(n!=0):\n",
    "    count=count+1\n",
    "    n=n//10\n",
    "if count==10:\n",
    "    while(temp!=0):\n",
    "        r=temp%10\n",
    "        sum1=sum1+(r*i)\n",
    "        i=i-1\n",
    "        temp=temp//10\n",
    "    if(sum1%11==0):\n",
    "        print(\"legal ISBN\")\n",
    "    else:\n",
    "        print(\"illegal ISBN\")\n",
    "else:\n",
    "    print(\"illegal ISBN\")"
   ]
  },
  {
   "cell_type": "code",
   "execution_count": 11,
   "metadata": {},
   "outputs": [
    {
     "name": "stdout",
     "output_type": "stream",
     "text": [
      " 1\n",
      " 20\n",
      "85 736 8201 109386 1679629 28824020 536870929 10460353222 200000000021 3138428376744 25 -3937376385699262 -311136191115624419 -19705225067138671844 -1180591620717411303391 -70315422260338624955010 -4249412072132026058145755 -263129814202821707353489168 -16777215999999999999999999959 -1104248946474950696541032515526 "
     ]
    }
   ],
   "source": [
    "s=int(input(\" \"))\n",
    "e=int(input(\" \"))\n",
    "t=10\n",
    "for i in range(s,e+1):\n",
    "    n1=i+1\n",
    "    n2=i+2\n",
    "    expre=(n1+n2)+(n1**n2)*(t)\n",
    "    print(expre,end=\" \")\n",
    "    t=t-1"
   ]
  },
  {
   "cell_type": "code",
   "execution_count": 19,
   "metadata": {},
   "outputs": [
    {
     "name": "stdout",
     "output_type": "stream",
     "text": [
      " 2000\n",
      " 3000\n",
      "2000 2004 2008 2012 2016 2020 2024 2028 2032 2036 2040 2044 2048 2052 2056 2060 2064 2068 2072 2076 2080 2084 2088 2092 2096 2100 2104 2108 2112 2116 2120 2124 2128 2132 2136 2140 2144 2148 2152 2156 2160 2164 2168 2172 2176 2180 2184 2188 2192 2196 2200 2204 2208 2212 2216 2220 2224 2228 2232 2236 2240 2244 2248 2252 2256 2260 2264 2268 2272 2276 2280 2284 2288 2292 2296 2300 2304 2308 2312 2316 2320 2324 2328 2332 2336 2340 2344 2348 2352 2356 2360 2364 2368 2372 2376 2380 2384 2388 2392 2396 2400 2404 2408 2412 2416 2420 2424 2428 2432 2436 2440 2444 2448 2452 2456 2460 2464 2468 2472 2476 2480 2484 2488 2492 2496 2500 2504 2508 2512 2516 2520 2524 2528 2532 2536 2540 2544 2548 2552 2556 2560 2564 2568 2572 2576 2580 2584 2588 2592 2596 2600 2604 2608 2612 2616 2620 2624 2628 2632 2636 2640 2644 2648 2652 2656 2660 2664 2668 2672 2676 2680 2684 2688 2692 2696 2700 2704 2708 2712 2716 2720 2724 2728 2732 2736 2740 2744 2748 2752 2756 2760 2764 2768 2772 2776 2780 2784 2788 2792 2796 2800 2804 2808 2812 2816 2820 2824 2828 2832 2836 2840 2844 2848 2852 2856 2860 2864 2868 2872 2876 2880 2884 2888 2892 2896 2900 2904 2908 2912 2916 2920 2924 2928 2932 2936 2940 2944 2948 2952 2956 2960 2964 2968 2972 2976 2980 2984 2988 2992 2996 3000 "
     ]
    }
   ],
   "source": [
    "#progrm to find leapyear\n",
    "n1=int(input(\" \"))\n",
    "n2=int(input(\" \"))\n",
    "for i in range(n1,n2+1):\n",
    "    if(i%4==0 or ((i%100!=0) and (i%400==0))):\n",
    "        print(i,end=\" \")"
   ]
  },
  {
   "cell_type": "code",
   "execution_count": 23,
   "metadata": {},
   "outputs": [
    {
     "name": "stdout",
     "output_type": "stream",
     "text": [
      "enter t value:3\n",
      "enter table number4\n",
      "4 * 1 = 4\n",
      "4 * 2 = 8\n",
      "4 * 3 = 12\n",
      "4 * 4 = 16\n",
      "4 * 5 = 20\n",
      "4 * 6 = 24\n",
      "4 * 7 = 28\n",
      "4 * 8 = 32\n",
      "4 * 9 = 36\n",
      "4 * 10 = 40\n",
      "enter table number2\n",
      "2 * 1 = 2\n",
      "2 * 2 = 4\n",
      "2 * 3 = 6\n",
      "2 * 4 = 8\n",
      "2 * 5 = 10\n",
      "2 * 6 = 12\n",
      "2 * 7 = 14\n",
      "2 * 8 = 16\n",
      "2 * 9 = 18\n",
      "2 * 10 = 20\n",
      "enter table number6\n",
      "6 * 1 = 6\n",
      "6 * 2 = 12\n",
      "6 * 3 = 18\n",
      "6 * 4 = 24\n",
      "6 * 5 = 30\n",
      "6 * 6 = 36\n",
      "6 * 7 = 42\n",
      "6 * 8 = 48\n",
      "6 * 9 = 54\n",
      "6 * 10 = 60\n"
     ]
    }
   ],
   "source": [
    "#program to write multiplication table\n",
    "t=int(input(\"enter t value:\"))\n",
    "for i in range(t):\n",
    "    n=int(input(\"enter table number\"))\n",
    "    for i in range(1,11):\n",
    "        print(n,\"*\",i,\"=\",(n*i))"
   ]
  },
  {
   "cell_type": "code",
   "execution_count": 1,
   "metadata": {},
   "outputs": [
    {
     "name": "stdout",
     "output_type": "stream",
     "text": [
      "enter t value:3\n",
      "enter n value:34\n",
      "7\n",
      "enter n value:45\n",
      "9\n",
      "enter n value:55\n",
      "10\n"
     ]
    }
   ],
   "source": [
    "#program to write sum of digits \n",
    "t=int(input(\"enter t value:\"))\n",
    "for i in range(t):\n",
    "    n=int(input(\"enter n value:\"))\n",
    "    sum1=0\n",
    "    while(n!=0):\n",
    "        sum1=sum1+(n%10)\n",
    "        n=n//10\n",
    "    print(sum1)"
   ]
  },
  {
   "cell_type": "code",
   "execution_count": null,
   "metadata": {},
   "outputs": [],
   "source": []
  },
  {
   "cell_type": "code",
   "execution_count": null,
   "metadata": {},
   "outputs": [],
   "source": []
  }
 ],
 "metadata": {
  "kernelspec": {
   "display_name": "Python 3",
   "language": "python",
   "name": "python3"
  },
  "language_info": {
   "codemirror_mode": {
    "name": "ipython",
    "version": 3
   },
   "file_extension": ".py",
   "mimetype": "text/x-python",
   "name": "python",
   "nbconvert_exporter": "python",
   "pygments_lexer": "ipython3",
   "version": "3.7.1"
  }
 },
 "nbformat": 4,
 "nbformat_minor": 2
}
